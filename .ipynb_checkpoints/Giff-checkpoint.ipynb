{
 "cells": [
  {
   "cell_type": "code",
   "execution_count": 2,
   "metadata": {
    "collapsed": true
   },
   "outputs": [],
   "source": [
    "import imageio\n",
    "import sys"
   ]
  },
  {
   "cell_type": "code",
   "execution_count": 3,
   "metadata": {},
   "outputs": [
    {
     "data": {
      "text/plain": [
       "['',\n",
       " '/home/dhantha/anaconda/envs/py36/lib/python36.zip',\n",
       " '/home/dhantha/anaconda/envs/py36/lib/python3.6',\n",
       " '/home/dhantha/anaconda/envs/py36/lib/python3.6/lib-dynload',\n",
       " '/home/dhantha/anaconda/envs/py36/lib/python3.6/site-packages',\n",
       " '/home/dhantha/anaconda/envs/py36/lib/python3.6/site-packages/Sphinx-1.6.2-py3.6.egg',\n",
       " '/home/dhantha/anaconda/envs/py36/lib/python3.6/site-packages/setuptools-27.2.0-py3.6.egg',\n",
       " '/home/dhantha/anaconda/envs/py36/lib/python3.6/site-packages/IPython/extensions',\n",
       " '/home/dhantha/.ipython']"
      ]
     },
     "execution_count": 3,
     "metadata": {},
     "output_type": "execute_result"
    }
   ],
   "source": [
    "sys.path"
   ]
  },
  {
   "cell_type": "code",
   "execution_count": 4,
   "metadata": {
    "collapsed": true
   },
   "outputs": [],
   "source": [
    "import os"
   ]
  },
  {
   "cell_type": "code",
   "execution_count": null,
   "metadata": {},
   "outputs": [],
   "source": []
  }
 ],
 "metadata": {
  "kernelspec": {
   "display_name": "Python 3",
   "language": "python",
   "name": "python3"
  },
  "language_info": {
   "codemirror_mode": {
    "name": "ipython",
    "version": 3
   },
   "file_extension": ".py",
   "mimetype": "text/x-python",
   "name": "python",
   "nbconvert_exporter": "python",
   "pygments_lexer": "ipython3",
   "version": "3.6.2"
  }
 },
 "nbformat": 4,
 "nbformat_minor": 2
}
